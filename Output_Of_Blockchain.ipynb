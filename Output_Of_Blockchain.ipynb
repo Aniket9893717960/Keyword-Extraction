{
  "nbformat": 4,
  "nbformat_minor": 0,
  "metadata": {
    "colab": {
      "provenance": [],
      "authorship_tag": "ABX9TyOphZdA2ukt/CXBvbJRJ1SZ",
      "include_colab_link": true
    },
    "kernelspec": {
      "name": "python3",
      "display_name": "Python 3"
    },
    "language_info": {
      "name": "python"
    }
  },
  "cells": [
    {
      "cell_type": "markdown",
      "metadata": {
        "id": "view-in-github",
        "colab_type": "text"
      },
      "source": [
        "<a href=\"https://colab.research.google.com/github/Aniket9893717960/Keyword-Extraction/blob/main/Output_Of_Blockchain.ipynb\" target=\"_parent\"><img src=\"https://colab.research.google.com/assets/colab-badge.svg\" alt=\"Open In Colab\"/></a>"
      ]
    },
    {
      "cell_type": "code",
      "execution_count": 1,
      "metadata": {
        "colab": {
          "base_uri": "https://localhost:8080/"
        },
        "id": "MQ8iwtL-QdVM",
        "outputId": "3cf6f1ed-9b9d-4f91-a175-be85c7119553"
      },
      "outputs": [
        {
          "output_type": "stream",
          "name": "stdout",
          "text": [
            "Block #1 has been added to the blockchain!\n",
            "Hash: 4a55327f7a11b59d0c00fa1231a47ad438c4dfb9d9608ab3bb5544fa53456400\n",
            "\n",
            "Block #2 has been added to the blockchain!\n",
            "Hash: e58aac51e6798bc9774a0c8bf2a8ee1b0d2d6b9af8979d27244b391c725345c9\n",
            "\n",
            "Block #3 has been added to the blockchain!\n",
            "Hash: 0246bc2154963e1d22a3477d21efd54f0503027dba5e068f0d52caaa64813fe8\n",
            "\n",
            "Block #4 has been added to the blockchain!\n",
            "Hash: ae93be5cd17d81f225443b39d9439f8d1da6d1106f8c3da54a05d6c47d2be020\n",
            "\n",
            "Block #5 has been added to the blockchain!\n",
            "Hash: 710bb165571749227877167370668e630ea1a5e99a0204f76e3b324930af1d98\n",
            "\n"
          ]
        }
      ],
      "source": [
        "!python \"P-1(Simple Blockchain).py\""
      ]
    },
    {
      "cell_type": "code",
      "source": [
        "!python \"P-2(SHA256).py\""
      ],
      "metadata": {
        "colab": {
          "base_uri": "https://localhost:8080/"
        },
        "id": "Ur2RAVrZRjv9",
        "outputId": "da235e35-beba-4a99-d07c-65e5f5d08010"
      },
      "execution_count": 2,
      "outputs": [
        {
          "output_type": "stream",
          "name": "stdout",
          "text": [
            "SHA-256 hash of 'Hello': 185f8db32271fe25f561a6fc938b2e264306ec304eda518007d1764826381969\n"
          ]
        }
      ]
    },
    {
      "cell_type": "code",
      "source": [
        "!python \"P-3(MD5).py\""
      ],
      "metadata": {
        "colab": {
          "base_uri": "https://localhost:8080/"
        },
        "id": "mMHwnPp0VxOR",
        "outputId": "e731fe4f-5cf4-462c-9454-3c07da598824"
      },
      "execution_count": 4,
      "outputs": [
        {
          "output_type": "stream",
          "name": "stdout",
          "text": [
            "MD5 hash of 'Hello, world!': 6cd3556deb0da54bca060b4c39479839\n"
          ]
        }
      ]
    },
    {
      "cell_type": "code",
      "source": [
        "!python \"P-4(Proof of Work).py\""
      ],
      "metadata": {
        "colab": {
          "base_uri": "https://localhost:8080/"
        },
        "id": "aaZPvaqzYVoX",
        "outputId": "10ce0d8f-5a3a-4aad-d59c-bb884a7faa63"
      },
      "execution_count": 6,
      "outputs": [
        {
          "output_type": "stream",
          "name": "stdout",
          "text": [
            "\n",
            "Mining with difficulty level: 2\n",
            "Mining block 1...\n",
            "Block mined: 0056f7c094c1d6e36ba3bcd92f0e42412e4b81799e002ea751f213030d69fdba\n",
            "Mining block 2...\n",
            "Block mined: 007208e8a33ea9c00821ee0f0d15dc5aa662b453c923df11be4f5f3368b0074d\n",
            "\n",
            "Mining with difficulty level: 3\n",
            "Mining block 1...\n",
            "Block mined: 00090cc401103a87e2a02a715ba65728c37b923a1a6c0e5c3d4e08cefa5918f5\n",
            "Mining block 2...\n",
            "Block mined: 000faf1d1c6e5eb0bdcc077a3dd33fc1e418aa916e0c04f0219b71b087690b0a\n",
            "\n",
            "Mining with difficulty level: 4\n",
            "Mining block 1...\n",
            "Block mined: 0000f4e8f0b967cf3ebe5a0934539b256261b7c57b584805191583da86fa8240\n",
            "Mining block 2...\n",
            "Block mined: 0000f3cb3f9a225daca7aeef9c32240ca8636bb74f65ccc31ac6c5043535856a\n",
            "\n",
            "Mining with difficulty level: 5\n",
            "Mining block 1...\n",
            "Block mined: 00000a547349cea153d916f82201a5727bbb45568dc201842b83ff769450da9f\n",
            "Mining block 2...\n",
            "Block mined: 0000094431dbfe597bcf40e8279618b8fa9b53dfcafc65358744ad83587eb751\n",
            "Figure(1000x600)\n"
          ]
        }
      ]
    },
    {
      "cell_type": "code",
      "source": [
        "!python \"P-5( Building a Simple Cryptocurrency).py\""
      ],
      "metadata": {
        "colab": {
          "base_uri": "https://localhost:8080/"
        },
        "id": "2ue5ftbOYhbf",
        "outputId": "1ae13ced-8763-44c8-99a0-13de23dfe71c"
      },
      "execution_count": 8,
      "outputs": [
        {
          "output_type": "stream",
          "name": "stdout",
          "text": [
            "Block #1 mined successfully!\n",
            "Hash: ce88de086326858f4bf31f7e8c12e97085aa8a5033bd16ee76358dd5f576686c\n",
            "\n",
            "Block #2 mined successfully!\n",
            "Hash: 969815e4c6e28e4982f62be345296be5f8782ca8308fe0827788b04e1f6e0a23\n",
            "\n",
            "Block #3 mined successfully!\n",
            "Hash: fb76efc0500eb1393ebbdfd1dfb4f733c814f3bf7c807a97b5ceda516dff02ee\n",
            "\n",
            "Block #0\n",
            "Previous Hash: 0\n",
            "Timestamp: 2024-11-18 08:31:33\n",
            "Transactions:\n",
            "Proof: 0\n",
            "Hash: e8fa877a6db74db2f632b283d25933b6f43a24e90d9dfe6a5d64ba73ca6fa105\n",
            "\n",
            "Block #1\n",
            "Previous Hash: e8fa877a6db74db2f632b283d25933b6f43a24e90d9dfe6a5d64ba73ca6fa105\n",
            "Timestamp: 2024-11-18 08:31:33\n",
            "Transactions:\n",
            "  Alice -> Bob: 50\n",
            "  Network -> Miner1: 10\n",
            "Proof: 69732\n",
            "Hash: ce88de086326858f4bf31f7e8c12e97085aa8a5033bd16ee76358dd5f576686c\n",
            "\n",
            "Block #2\n",
            "Previous Hash: ce88de086326858f4bf31f7e8c12e97085aa8a5033bd16ee76358dd5f576686c\n",
            "Timestamp: 2024-11-18 08:31:33\n",
            "Transactions:\n",
            "  Bob -> Alice: 25\n",
            "  Network -> Miner2: 10\n",
            "Proof: 23263\n",
            "Hash: 969815e4c6e28e4982f62be345296be5f8782ca8308fe0827788b04e1f6e0a23\n",
            "\n",
            "Block #3\n",
            "Previous Hash: 969815e4c6e28e4982f62be345296be5f8782ca8308fe0827788b04e1f6e0a23\n",
            "Timestamp: 2024-11-18 08:31:33\n",
            "Transactions:\n",
            "  Alice -> Charlie: 40\n",
            "  Charlie -> Bob: 15\n",
            "  Network -> Miner1: 10\n",
            "Proof: 251609\n",
            "Hash: fb76efc0500eb1393ebbdfd1dfb4f733c814f3bf7c807a97b5ceda516dff02ee\n",
            "\n"
          ]
        }
      ]
    },
    {
      "cell_type": "code",
      "source": [
        "!python \"P-6(Proof of Stake).py\""
      ],
      "metadata": {
        "colab": {
          "base_uri": "https://localhost:8080/"
        },
        "id": "dKgtrPmxZ4by",
        "outputId": "b0c18c75-e07f-466a-d1ac-48066d716eb2"
      },
      "execution_count": 9,
      "outputs": [
        {
          "output_type": "stream",
          "name": "stdout",
          "text": [
            "\n",
            "Round 1\n",
            "Selected Validator: Validator_C\n",
            "Validator_A - Stake: 50\n",
            "Validator_B - Stake: 30\n",
            "Validator_C - Stake: 25\n",
            "\n",
            "Round 2\n",
            "Selected Validator: Validator_A\n",
            "Validator_A - Stake: 55\n",
            "Validator_B - Stake: 30\n",
            "Validator_C - Stake: 25\n",
            "\n",
            "Round 3\n",
            "Selected Validator: Validator_A\n",
            "Validator_A - Stake: 60\n",
            "Validator_B - Stake: 30\n",
            "Validator_C - Stake: 25\n",
            "\n",
            "Round 4\n",
            "Selected Validator: Validator_C\n",
            "Validator_A - Stake: 60\n",
            "Validator_B - Stake: 30\n",
            "Validator_C - Stake: 30\n",
            "\n",
            "Round 5\n",
            "Selected Validator: Validator_C\n",
            "Validator_A - Stake: 60\n",
            "Validator_B - Stake: 30\n",
            "Validator_C - Stake: 35\n",
            "\n",
            "Round 6\n",
            "Selected Validator: Validator_A\n",
            "Validator_A - Stake: 65\n",
            "Validator_B - Stake: 30\n",
            "Validator_C - Stake: 35\n",
            "\n",
            "Round 7\n",
            "Selected Validator: Validator_A\n",
            "Validator_A - Stake: 70\n",
            "Validator_B - Stake: 30\n",
            "Validator_C - Stake: 35\n",
            "\n",
            "Round 8\n",
            "Selected Validator: Validator_A\n",
            "Validator_A - Stake: 75\n",
            "Validator_B - Stake: 30\n",
            "Validator_C - Stake: 35\n",
            "\n",
            "Round 9\n",
            "Selected Validator: Validator_A\n",
            "Validator_A - Stake: 80\n",
            "Validator_B - Stake: 30\n",
            "Validator_C - Stake: 35\n",
            "\n",
            "Round 10\n",
            "Selected Validator: Validator_A\n",
            "Validator_A - Stake: 85\n",
            "Validator_B - Stake: 30\n",
            "Validator_C - Stake: 35\n",
            "\n",
            "Final Validator Stakes:\n",
            "Validator_A - Final Stake: 85\n",
            "Validator_B - Final Stake: 30\n",
            "Validator_C - Final Stake: 35\n"
          ]
        }
      ]
    },
    {
      "cell_type": "code",
      "source": [
        "!python \"P-7(Proof of Burn).py\""
      ],
      "metadata": {
        "colab": {
          "base_uri": "https://localhost:8080/"
        },
        "id": "vBRCpR6ZaUK4",
        "outputId": "499c530f-f948-4489-848b-7729e2b327f5"
      },
      "execution_count": 10,
      "outputs": [
        {
          "output_type": "stream",
          "name": "stdout",
          "text": [
            "Miner Miner_A burned 30 tokens. Total burned: 30\n",
            "Miner Miner_B burned 20 tokens. Total burned: 20\n",
            "Miner Miner_C burned 10 tokens. Total burned: 10\n",
            "\n",
            "Selected Miner for Block Creation: Miner_C\n",
            "Miner Miner_C rewarded with 15 tokens. New balance: 65\n",
            "\n",
            "Final Miner Balances and Burn Contributions:\n",
            "Miner_A - Balance: 70, Total Burned: 30\n",
            "Miner_B - Balance: 60, Total Burned: 20\n",
            "Miner_C - Balance: 65, Total Burned: 10\n"
          ]
        }
      ]
    },
    {
      "cell_type": "code",
      "source": [
        "!pip install Flask web3 pyngrok"
      ],
      "metadata": {
        "colab": {
          "base_uri": "https://localhost:8080/"
        },
        "id": "zg9n8sqmgR3Q",
        "outputId": "b3259331-3046-4355-fc8f-1a3f831cfc9e"
      },
      "execution_count": 11,
      "outputs": [
        {
          "output_type": "stream",
          "name": "stdout",
          "text": [
            "Requirement already satisfied: Flask in /usr/local/lib/python3.10/dist-packages (3.0.3)\n",
            "Collecting web3\n",
            "  Downloading web3-7.5.0-py3-none-any.whl.metadata (5.4 kB)\n",
            "Collecting pyngrok\n",
            "  Downloading pyngrok-7.2.1-py3-none-any.whl.metadata (8.3 kB)\n",
            "Requirement already satisfied: Werkzeug>=3.0.0 in /usr/local/lib/python3.10/dist-packages (from Flask) (3.1.3)\n",
            "Requirement already satisfied: Jinja2>=3.1.2 in /usr/local/lib/python3.10/dist-packages (from Flask) (3.1.4)\n",
            "Requirement already satisfied: itsdangerous>=2.1.2 in /usr/local/lib/python3.10/dist-packages (from Flask) (2.2.0)\n",
            "Requirement already satisfied: click>=8.1.3 in /usr/local/lib/python3.10/dist-packages (from Flask) (8.1.7)\n",
            "Requirement already satisfied: blinker>=1.6.2 in /usr/local/lib/python3.10/dist-packages (from Flask) (1.9.0)\n",
            "Collecting eth-abi>=5.0.1 (from web3)\n",
            "  Downloading eth_abi-5.1.0-py3-none-any.whl.metadata (5.1 kB)\n",
            "Collecting eth-account>=0.13.1 (from web3)\n",
            "  Downloading eth_account-0.13.4-py3-none-any.whl.metadata (5.3 kB)\n",
            "Collecting eth-hash>=0.5.1 (from eth-hash[pycryptodome]>=0.5.1->web3)\n",
            "  Downloading eth_hash-0.7.0-py3-none-any.whl.metadata (5.4 kB)\n",
            "Collecting eth-typing>=5.0.0 (from web3)\n",
            "  Downloading eth_typing-5.0.1-py3-none-any.whl.metadata (5.1 kB)\n",
            "Collecting eth-utils>=5.0.0 (from web3)\n",
            "  Downloading eth_utils-5.1.0-py3-none-any.whl.metadata (5.3 kB)\n",
            "Collecting hexbytes>=1.2.0 (from web3)\n",
            "  Downloading hexbytes-1.2.1-py3-none-any.whl.metadata (3.7 kB)\n",
            "Requirement already satisfied: aiohttp>=3.7.4.post0 in /usr/local/lib/python3.10/dist-packages (from web3) (3.10.10)\n",
            "Requirement already satisfied: pydantic>=2.4.0 in /usr/local/lib/python3.10/dist-packages (from web3) (2.9.2)\n",
            "Requirement already satisfied: requests>=2.23.0 in /usr/local/lib/python3.10/dist-packages (from web3) (2.32.3)\n",
            "Requirement already satisfied: typing-extensions>=4.0.1 in /usr/local/lib/python3.10/dist-packages (from web3) (4.12.2)\n",
            "Collecting types-requests>=2.0.0 (from web3)\n",
            "  Downloading types_requests-2.32.0.20241016-py3-none-any.whl.metadata (1.9 kB)\n",
            "Collecting websockets>=10.0.0 (from web3)\n",
            "  Downloading websockets-14.1-cp310-cp310-manylinux_2_5_x86_64.manylinux1_x86_64.manylinux_2_17_x86_64.manylinux2014_x86_64.whl.metadata (6.7 kB)\n",
            "Collecting pyunormalize>=15.0.0 (from web3)\n",
            "  Downloading pyunormalize-16.0.0-py3-none-any.whl.metadata (4.0 kB)\n",
            "Requirement already satisfied: PyYAML>=5.1 in /usr/local/lib/python3.10/dist-packages (from pyngrok) (6.0.2)\n",
            "Requirement already satisfied: aiohappyeyeballs>=2.3.0 in /usr/local/lib/python3.10/dist-packages (from aiohttp>=3.7.4.post0->web3) (2.4.3)\n",
            "Requirement already satisfied: aiosignal>=1.1.2 in /usr/local/lib/python3.10/dist-packages (from aiohttp>=3.7.4.post0->web3) (1.3.1)\n",
            "Requirement already satisfied: attrs>=17.3.0 in /usr/local/lib/python3.10/dist-packages (from aiohttp>=3.7.4.post0->web3) (24.2.0)\n",
            "Requirement already satisfied: frozenlist>=1.1.1 in /usr/local/lib/python3.10/dist-packages (from aiohttp>=3.7.4.post0->web3) (1.5.0)\n",
            "Requirement already satisfied: multidict<7.0,>=4.5 in /usr/local/lib/python3.10/dist-packages (from aiohttp>=3.7.4.post0->web3) (6.1.0)\n",
            "Requirement already satisfied: yarl<2.0,>=1.12.0 in /usr/local/lib/python3.10/dist-packages (from aiohttp>=3.7.4.post0->web3) (1.17.1)\n",
            "Requirement already satisfied: async-timeout<5.0,>=4.0 in /usr/local/lib/python3.10/dist-packages (from aiohttp>=3.7.4.post0->web3) (4.0.3)\n",
            "Collecting parsimonious<0.11.0,>=0.10.0 (from eth-abi>=5.0.1->web3)\n",
            "  Downloading parsimonious-0.10.0-py3-none-any.whl.metadata (25 kB)\n",
            "Collecting bitarray>=2.4.0 (from eth-account>=0.13.1->web3)\n",
            "  Downloading bitarray-3.0.0-cp310-cp310-manylinux_2_17_x86_64.manylinux2014_x86_64.whl.metadata (32 kB)\n",
            "Collecting eth-keyfile<0.9.0,>=0.7.0 (from eth-account>=0.13.1->web3)\n",
            "  Downloading eth_keyfile-0.8.1-py3-none-any.whl.metadata (8.5 kB)\n",
            "Collecting eth-keys>=0.4.0 (from eth-account>=0.13.1->web3)\n",
            "  Downloading eth_keys-0.6.0-py3-none-any.whl.metadata (13 kB)\n",
            "Collecting eth-rlp>=2.1.0 (from eth-account>=0.13.1->web3)\n",
            "  Downloading eth_rlp-2.1.0-py3-none-any.whl.metadata (4.6 kB)\n",
            "Collecting rlp>=1.0.0 (from eth-account>=0.13.1->web3)\n",
            "  Downloading rlp-4.0.1-py3-none-any.whl.metadata (4.6 kB)\n",
            "Collecting ckzg>=2.0.0 (from eth-account>=0.13.1->web3)\n",
            "  Downloading ckzg-2.0.1-cp310-cp310-manylinux_2_17_x86_64.manylinux2014_x86_64.whl.metadata (683 bytes)\n",
            "Collecting pycryptodome<4,>=3.6.6 (from eth-hash[pycryptodome]>=0.5.1->web3)\n",
            "  Downloading pycryptodome-3.21.0-cp36-abi3-manylinux_2_17_x86_64.manylinux2014_x86_64.whl.metadata (3.4 kB)\n",
            "Collecting cytoolz>=0.10.1 (from eth-utils>=5.0.0->web3)\n",
            "  Downloading cytoolz-1.0.0-cp310-cp310-manylinux_2_17_x86_64.manylinux2014_x86_64.whl.metadata (4.5 kB)\n",
            "Requirement already satisfied: MarkupSafe>=2.0 in /usr/local/lib/python3.10/dist-packages (from Jinja2>=3.1.2->Flask) (3.0.2)\n",
            "Requirement already satisfied: annotated-types>=0.6.0 in /usr/local/lib/python3.10/dist-packages (from pydantic>=2.4.0->web3) (0.7.0)\n",
            "Requirement already satisfied: pydantic-core==2.23.4 in /usr/local/lib/python3.10/dist-packages (from pydantic>=2.4.0->web3) (2.23.4)\n",
            "Requirement already satisfied: charset-normalizer<4,>=2 in /usr/local/lib/python3.10/dist-packages (from requests>=2.23.0->web3) (3.4.0)\n",
            "Requirement already satisfied: idna<4,>=2.5 in /usr/local/lib/python3.10/dist-packages (from requests>=2.23.0->web3) (3.10)\n",
            "Requirement already satisfied: urllib3<3,>=1.21.1 in /usr/local/lib/python3.10/dist-packages (from requests>=2.23.0->web3) (2.2.3)\n",
            "Requirement already satisfied: certifi>=2017.4.17 in /usr/local/lib/python3.10/dist-packages (from requests>=2.23.0->web3) (2024.8.30)\n",
            "Requirement already satisfied: toolz>=0.8.0 in /usr/local/lib/python3.10/dist-packages (from cytoolz>=0.10.1->eth-utils>=5.0.0->web3) (0.12.1)\n",
            "Requirement already satisfied: regex>=2022.3.15 in /usr/local/lib/python3.10/dist-packages (from parsimonious<0.11.0,>=0.10.0->eth-abi>=5.0.1->web3) (2024.9.11)\n",
            "Requirement already satisfied: propcache>=0.2.0 in /usr/local/lib/python3.10/dist-packages (from yarl<2.0,>=1.12.0->aiohttp>=3.7.4.post0->web3) (0.2.0)\n",
            "Downloading web3-7.5.0-py3-none-any.whl (1.3 MB)\n",
            "\u001b[2K   \u001b[90m━━━━━━━━━━━━━━━━━━━━━━━━━━━━━━━━━━━━━━━━\u001b[0m \u001b[32m1.3/1.3 MB\u001b[0m \u001b[31m20.4 MB/s\u001b[0m eta \u001b[36m0:00:00\u001b[0m\n",
            "\u001b[?25hDownloading pyngrok-7.2.1-py3-none-any.whl (22 kB)\n",
            "Downloading eth_abi-5.1.0-py3-none-any.whl (29 kB)\n",
            "Downloading eth_account-0.13.4-py3-none-any.whl (581 kB)\n",
            "\u001b[2K   \u001b[90m━━━━━━━━━━━━━━━━━━━━━━━━━━━━━━━━━━━━━━━━\u001b[0m \u001b[32m581.4/581.4 kB\u001b[0m \u001b[31m27.7 MB/s\u001b[0m eta \u001b[36m0:00:00\u001b[0m\n",
            "\u001b[?25hDownloading eth_hash-0.7.0-py3-none-any.whl (8.7 kB)\n",
            "Downloading eth_typing-5.0.1-py3-none-any.whl (20 kB)\n",
            "Downloading eth_utils-5.1.0-py3-none-any.whl (100 kB)\n",
            "\u001b[2K   \u001b[90m━━━━━━━━━━━━━━━━━━━━━━━━━━━━━━━━━━━━━━━━\u001b[0m \u001b[32m100.5/100.5 kB\u001b[0m \u001b[31m6.4 MB/s\u001b[0m eta \u001b[36m0:00:00\u001b[0m\n",
            "\u001b[?25hDownloading hexbytes-1.2.1-py3-none-any.whl (5.2 kB)\n",
            "Downloading pyunormalize-16.0.0-py3-none-any.whl (49 kB)\n",
            "\u001b[2K   \u001b[90m━━━━━━━━━━━━━━━━━━━━━━━━━━━━━━━━━━━━━━━━\u001b[0m \u001b[32m49.2/49.2 kB\u001b[0m \u001b[31m3.5 MB/s\u001b[0m eta \u001b[36m0:00:00\u001b[0m\n",
            "\u001b[?25hDownloading types_requests-2.32.0.20241016-py3-none-any.whl (15 kB)\n",
            "Downloading websockets-14.1-cp310-cp310-manylinux_2_5_x86_64.manylinux1_x86_64.manylinux_2_17_x86_64.manylinux2014_x86_64.whl (168 kB)\n",
            "\u001b[2K   \u001b[90m━━━━━━━━━━━━━━━━━━━━━━━━━━━━━━━━━━━━━━━━\u001b[0m \u001b[32m168.2/168.2 kB\u001b[0m \u001b[31m11.0 MB/s\u001b[0m eta \u001b[36m0:00:00\u001b[0m\n",
            "\u001b[?25hDownloading bitarray-3.0.0-cp310-cp310-manylinux_2_17_x86_64.manylinux2014_x86_64.whl (278 kB)\n",
            "\u001b[2K   \u001b[90m━━━━━━━━━━━━━━━━━━━━━━━━━━━━━━━━━━━━━━━━\u001b[0m \u001b[32m278.3/278.3 kB\u001b[0m \u001b[31m18.0 MB/s\u001b[0m eta \u001b[36m0:00:00\u001b[0m\n",
            "\u001b[?25hDownloading ckzg-2.0.1-cp310-cp310-manylinux_2_17_x86_64.manylinux2014_x86_64.whl (168 kB)\n",
            "\u001b[2K   \u001b[90m━━━━━━━━━━━━━━━━━━━━━━━━━━━━━━━━━━━━━━━━\u001b[0m \u001b[32m168.9/168.9 kB\u001b[0m \u001b[31m12.6 MB/s\u001b[0m eta \u001b[36m0:00:00\u001b[0m\n",
            "\u001b[?25hDownloading cytoolz-1.0.0-cp310-cp310-manylinux_2_17_x86_64.manylinux2014_x86_64.whl (2.0 MB)\n",
            "\u001b[2K   \u001b[90m━━━━━━━━━━━━━━━━━━━━━━━━━━━━━━━━━━━━━━━━\u001b[0m \u001b[32m2.0/2.0 MB\u001b[0m \u001b[31m36.0 MB/s\u001b[0m eta \u001b[36m0:00:00\u001b[0m\n",
            "\u001b[?25hDownloading eth_keyfile-0.8.1-py3-none-any.whl (7.5 kB)\n",
            "Downloading eth_keys-0.6.0-py3-none-any.whl (21 kB)\n",
            "Downloading eth_rlp-2.1.0-py3-none-any.whl (5.1 kB)\n",
            "Downloading parsimonious-0.10.0-py3-none-any.whl (48 kB)\n",
            "\u001b[2K   \u001b[90m━━━━━━━━━━━━━━━━━━━━━━━━━━━━━━━━━━━━━━━━\u001b[0m \u001b[32m48.4/48.4 kB\u001b[0m \u001b[31m3.8 MB/s\u001b[0m eta \u001b[36m0:00:00\u001b[0m\n",
            "\u001b[?25hDownloading pycryptodome-3.21.0-cp36-abi3-manylinux_2_17_x86_64.manylinux2014_x86_64.whl (2.3 MB)\n",
            "\u001b[2K   \u001b[90m━━━━━━━━━━━━━━━━━━━━━━━━━━━━━━━━━━━━━━━━\u001b[0m \u001b[32m2.3/2.3 MB\u001b[0m \u001b[31m40.2 MB/s\u001b[0m eta \u001b[36m0:00:00\u001b[0m\n",
            "\u001b[?25hDownloading rlp-4.0.1-py3-none-any.whl (20 kB)\n",
            "Installing collected packages: ckzg, bitarray, websockets, types-requests, pyunormalize, pyngrok, pycryptodome, parsimonious, hexbytes, eth-typing, eth-hash, cytoolz, eth-utils, rlp, eth-keys, eth-abi, eth-rlp, eth-keyfile, eth-account, web3\n",
            "Successfully installed bitarray-3.0.0 ckzg-2.0.1 cytoolz-1.0.0 eth-abi-5.1.0 eth-account-0.13.4 eth-hash-0.7.0 eth-keyfile-0.8.1 eth-keys-0.6.0 eth-rlp-2.1.0 eth-typing-5.0.1 eth-utils-5.1.0 hexbytes-1.2.1 parsimonious-0.10.0 pycryptodome-3.21.0 pyngrok-7.2.1 pyunormalize-16.0.0 rlp-4.0.1 types-requests-2.32.0.20241016 web3-7.5.0 websockets-14.1\n"
          ]
        }
      ]
    },
    {
      "cell_type": "code",
      "source": [
        "# Install ngrok\n",
        "!pip install pyngrok\n",
        "\n",
        "# Set your ngrok authentication token (replace 'your_authtoken' with the actual token)\n",
        "from pyngrok import ngrok\n",
        "ngrok.set_auth_token('2p15hf1xI3526DdKhqTAldz87it_2McC1fmVtryCWtLFjqkyY')  # Replace 'your_authtoken' with your actual token\n",
        "\n",
        "# Now you can start a Flask app and expose it via Ngrok"
      ],
      "metadata": {
        "colab": {
          "base_uri": "https://localhost:8080/"
        },
        "id": "1lNgQFXfhk-7",
        "outputId": "748fee40-b1f4-4201-ee88-f293138b989a"
      },
      "execution_count": 13,
      "outputs": [
        {
          "output_type": "stream",
          "name": "stdout",
          "text": [
            "Requirement already satisfied: pyngrok in /usr/local/lib/python3.10/dist-packages (7.2.1)\n",
            "Requirement already satisfied: PyYAML>=5.1 in /usr/local/lib/python3.10/dist-packages (from pyngrok) (6.0.2)\n"
          ]
        }
      ]
    },
    {
      "cell_type": "code",
      "source": [
        "from flask import Flask, request, jsonify, render_template, redirect, url_for\n",
        "from web3 import Web3\n",
        "from pyngrok import ngrok\n",
        "import hashlib\n",
        "\n",
        "app = Flask(__name__)\n",
        "\n",
        "# Connect to a local blockchain using Ganache\n",
        "web3 = Web3(Web3.HTTPProvider(\"http://127.0.0.1:8545\"))\n",
        "\n",
        "# In-memory storage for wallets and votes\n",
        "voter_wallets = {}  # Stores voter's wallets\n",
        "votes = {}          # Stores votes cast by voters\n",
        "\n",
        "@app.route('/')\n",
        "def index():\n",
        "    return '''\n",
        "        <h1>Welcome to the Decentralized Voting System</h1>\n",
        "        <form action=\"/create_wallet\" method=\"POST\">\n",
        "            <label for=\"voter_id\">Voter ID:</label>\n",
        "            <input type=\"text\" id=\"voter_id\" name=\"voter_id\">\n",
        "            <button type=\"submit\">Create Wallet</button>\n",
        "        </form>\n",
        "        <form action=\"/vote\" method=\"POST\">\n",
        "            <label for=\"voter_id\">Voter ID:</label>\n",
        "            <input type=\"text\" id=\"voter_id\" name=\"voter_id\">\n",
        "            <label for=\"candidate\">Candidate Address:</label>\n",
        "            <input type=\"text\" id=\"candidate\" name=\"candidate\">\n",
        "            <button type=\"submit\">Vote</button>\n",
        "        </form>\n",
        "    '''\n",
        "\n",
        "@app.route('/create_wallet', methods=['POST'])\n",
        "def create_wallet():\n",
        "    voter_id = request.form.get(\"voter_id\")\n",
        "    account = web3.eth.account.create()\n",
        "    wallet_address = account.address\n",
        "    private_key = account.key.hex()\n",
        "\n",
        "    voter_wallets[voter_id] = {\"address\": wallet_address, \"private_key\": private_key}\n",
        "    return redirect(url_for(\"index\"))\n",
        "\n",
        "@app.route('/vote', methods=['POST'])\n",
        "def vote():\n",
        "    voter_id = request.form.get(\"voter_id\")\n",
        "    candidate = request.form.get(\"candidate\")\n",
        "\n",
        "    if voter_id in votes:\n",
        "        return \"You have already voted.\"\n",
        "\n",
        "    voter_wallet = voter_wallets.get(voter_id)\n",
        "    if not voter_wallet:\n",
        "        return \"Invalid voter.\"\n",
        "\n",
        "    transaction = {\n",
        "        \"from\": voter_wallet[\"address\"],\n",
        "        \"to\": candidate,\n",
        "        \"amount\": 1\n",
        "    }\n",
        "    transaction_hash = hashlib.sha256(str(transaction).encode()).hexdigest()\n",
        "    votes[voter_id] = {\"transaction\": transaction, \"transaction_hash\": transaction_hash}\n",
        "\n",
        "    return redirect(url_for(\"index\"))\n",
        "\n",
        "@app.route('/verify_vote/<voter_id>', methods=['GET'])\n",
        "def verify_vote(voter_id):\n",
        "    vote = votes.get(voter_id)\n",
        "    if not vote:\n",
        "        return jsonify({\"message\": \"No vote found for this voter.\"})\n",
        "\n",
        "    transaction = vote[\"transaction\"]\n",
        "    calculated_hash = hashlib.sha256(str(transaction).encode()).hexdigest()\n",
        "    if calculated_hash == vote[\"transaction_hash\"]:\n",
        "        return jsonify({\"message\": \"Vote is verified\", \"valid\": True})\n",
        "    else:\n",
        "        return jsonify({\"message\": \"Vote verification failed\", \"valid\": False})\n",
        "\n",
        "@app.route('/results', methods=['GET'])\n",
        "def results():\n",
        "    tally = {}\n",
        "    for vote in votes.values():\n",
        "        candidate = vote[\"transaction\"][\"to\"]\n",
        "        tally[candidate] = tally.get(candidate, 0) + 1\n",
        "    return jsonify({\"results\": tally})\n",
        "\n",
        "if __name__ == \"__main__\":\n",
        "    # Open a tunnel to the Flask server\n",
        "    public_url = ngrok.connect(5000)\n",
        "    print(f\" * Flask app running at {public_url}\")\n",
        "    app.run(debug=True, use_reloader=False)  # Disable reloader if running on Colab\n"
      ],
      "metadata": {
        "colab": {
          "base_uri": "https://localhost:8080/"
        },
        "id": "usIHmbS9kRhK",
        "outputId": "3e69431b-3674-4814-efb0-53da89c82662"
      },
      "execution_count": null,
      "outputs": [
        {
          "metadata": {
            "tags": null
          },
          "name": "stdout",
          "output_type": "stream",
          "text": [
            " * Flask app running at NgrokTunnel: \"https://5977-35-237-49-239.ngrok-free.app\" -> \"http://localhost:5000\"\n",
            " * Serving Flask app '__main__'\n",
            " * Debug mode: on\n"
          ]
        },
        {
          "metadata": {
            "tags": null
          },
          "name": "stderr",
          "output_type": "stream",
          "text": [
            "INFO:werkzeug:\u001b[31m\u001b[1mWARNING: This is a development server. Do not use it in a production deployment. Use a production WSGI server instead.\u001b[0m\n",
            " * Running on http://127.0.0.1:5000\n",
            "INFO:werkzeug:\u001b[33mPress CTRL+C to quit\u001b[0m\n",
            "INFO:werkzeug:127.0.0.1 - - [18/Nov/2024 09:20:53] \"GET / HTTP/1.1\" 200 -\n",
            "INFO:werkzeug:127.0.0.1 - - [18/Nov/2024 09:20:54] \"\u001b[33mGET /favicon.ico HTTP/1.1\u001b[0m\" 404 -\n",
            "INFO:werkzeug:127.0.0.1 - - [18/Nov/2024 09:21:50] \"POST /vote HTTP/1.1\" 200 -\n",
            "INFO:werkzeug:127.0.0.1 - - [18/Nov/2024 09:26:16] \"\u001b[32mPOST /create_wallet HTTP/1.1\u001b[0m\" 302 -\n",
            "INFO:werkzeug:127.0.0.1 - - [18/Nov/2024 09:26:17] \"GET / HTTP/1.1\" 200 -\n",
            "INFO:werkzeug:127.0.0.1 - - [18/Nov/2024 09:27:57] \"\u001b[32mPOST /vote HTTP/1.1\u001b[0m\" 302 -\n",
            "INFO:werkzeug:127.0.0.1 - - [18/Nov/2024 09:27:57] \"GET / HTTP/1.1\" 200 -\n",
            "INFO:werkzeug:127.0.0.1 - - [18/Nov/2024 09:28:11] \"POST /vote HTTP/1.1\" 200 -\n",
            "INFO:werkzeug:127.0.0.1 - - [18/Nov/2024 09:28:56] \"GET / HTTP/1.1\" 200 -\n",
            "INFO:werkzeug:127.0.0.1 - - [18/Nov/2024 09:40:24] \"\u001b[32mPOST /create_wallet HTTP/1.1\u001b[0m\" 302 -\n",
            "INFO:werkzeug:127.0.0.1 - - [18/Nov/2024 09:40:24] \"GET / HTTP/1.1\" 200 -\n",
            "INFO:werkzeug:127.0.0.1 - - [18/Nov/2024 09:42:04] \"\u001b[32mPOST /vote HTTP/1.1\u001b[0m\" 302 -\n",
            "INFO:werkzeug:127.0.0.1 - - [18/Nov/2024 09:42:04] \"GET / HTTP/1.1\" 200 -\n",
            "INFO:werkzeug:127.0.0.1 - - [18/Nov/2024 09:42:12] \"POST /vote HTTP/1.1\" 200 -\n"
          ]
        }
      ]
    }
  ]
}